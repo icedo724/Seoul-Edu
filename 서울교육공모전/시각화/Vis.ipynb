{
 "cells": [
  {
   "cell_type": "code",
   "execution_count": 1,
   "id": "3510ec90-9973-498b-a3f0-a047454258c1",
   "metadata": {},
   "outputs": [],
   "source": [
    "import geopandas as gpd\n",
    "import folium\n",
    "import pandas as pd\n",
    "import json\n",
    "import branca.colormap as cm\n",
    "from shapely.geometry import shape"
   ]
  },
  {
   "cell_type": "code",
   "execution_count": 2,
   "id": "96ffb334-c782-4c6c-996b-e6726509ff82",
   "metadata": {},
   "outputs": [],
   "source": [
    "high = pd.read_csv('../쿼리/특수학급_고등학교_지역별.csv')\n",
    "mid = pd.read_csv('../쿼리/특수학급_중학교_지역별.csv')\n",
    "ele = pd.read_csv('../쿼리/특수학급_초등학교_지역별.csv')\n",
    "sp = pd.read_csv('../쿼리/특수학급_특수학교.csv')\n",
    "n_all = pd.read_csv('../쿼리/특수학급_특수학교제외_지역별.csv')\n",
    "mi = pd.read_csv('../쿼리/특수학교_일반학교차.csv')"
   ]
  },
  {
   "cell_type": "code",
   "execution_count": 3,
   "id": "c8eb78e4-79da-4429-a5f5-0a6e140b639f",
   "metadata": {},
   "outputs": [],
   "source": [
    "def prepare_data(dataframe):\n",
    "    gdf = gpd.read_file('Seoul.geojson')\n",
    "\n",
    "    gdf_dissolved = gdf.dissolve(by='sggnm').reset_index()\n",
    "\n",
    "    dissolved_geojson = json.loads(gdf_dissolved.to_json())\n",
    "\n",
    "    dataframe['구'] = dataframe['지역'].apply(lambda x: x.split()[-1])\n",
    "    sp_agg = dataframe.groupby('구')['학생수(계)'].sum().reset_index()\n",
    "\n",
    "    return dissolved_geojson, sp_agg"
   ]
  },
  {
   "cell_type": "code",
   "execution_count": 4,
   "id": "b86e8d95-00b6-4c2b-8248-d10097183849",
   "metadata": {},
   "outputs": [],
   "source": [
    "def prepare_data_2(dataframe):\n",
    "    gdf = gpd.read_file('Seoul.geojson')\n",
    "\n",
    "    gdf_dissolved = gdf.dissolve(by='sggnm').reset_index()\n",
    "\n",
    "    dissolved_geojson = json.loads(gdf_dissolved.to_json())\n",
    "\n",
    "    dataframe['구'] = dataframe['지역'].apply(lambda x: x.split()[-1])\n",
    "    sp_agg = dataframe.groupby('구')['총특수학생수'].sum().reset_index()\n",
    "\n",
    "    return dissolved_geojson, sp_agg"
   ]
  },
  {
   "cell_type": "code",
   "execution_count": 5,
   "id": "520ba9be-8efe-476c-814d-d669523ce021",
   "metadata": {},
   "outputs": [],
   "source": [
    "def prepare_data_3(dataframe):\n",
    "    gdf = gpd.read_file('Seoul.geojson')\n",
    "\n",
    "    gdf_dissolved = gdf.dissolve(by='sggnm').reset_index()\n",
    "\n",
    "    dissolved_geojson = json.loads(gdf_dissolved.to_json())\n",
    "\n",
    "    dataframe['구'] = dataframe['지역'].apply(lambda x: x.split()[-1])\n",
    "    sp_agg = dataframe.groupby('구')['특수학생수차'].sum().reset_index()\n",
    "\n",
    "    return dissolved_geojson, sp_agg"
   ]
  },
  {
   "cell_type": "code",
   "execution_count": 6,
   "id": "1bc1c3d1-c8dc-45ba-8d2f-84f69584c641",
   "metadata": {},
   "outputs": [],
   "source": [
    "def visualize_student_population(dataframe, output_name):\n",
    "    dissolved_geojson, sp_agg = prepare_data(dataframe)\n",
    "\n",
    "    center_lat, center_lon = 37.5665, 126.9780\n",
    "    m = folium.Map(location=[center_lat, center_lon], zoom_start=11, tiles='cartodbpositron')\n",
    "\n",
    "    for feature in dissolved_geojson['features']:\n",
    "        folium.GeoJson(\n",
    "            feature,\n",
    "            name=feature['properties']['sggnm'],\n",
    "            style_function=lambda x: {\n",
    "                'fillColor': 'none',\n",
    "                'color': 'black',\n",
    "                'weight': 1,\n",
    "                'fillOpacity': 0,\n",
    "            },\n",
    "            tooltip=folium.GeoJsonTooltip(fields=['sggnm'], labels=False, sticky=False)\n",
    "        ).add_to(m)\n",
    "\n",
    "    min_students = sp_agg['학생수(계)'].min()\n",
    "    max_students = sp_agg['학생수(계)'].max()\n",
    "    color_scale = cm.LinearColormap(['floralwhite', 'wheat', 'orange', 'darkgoldenrod'], vmin=min_students, vmax=max_students)\n",
    "\n",
    "    for _, row in sp_agg.iterrows():\n",
    "        district = row['구']\n",
    "        student_count = row['학생수(계)']\n",
    "        \n",
    "        for feature in dissolved_geojson['features']:\n",
    "            if feature['properties']['sggnm'] == district:\n",
    "                folium.GeoJson(\n",
    "                    feature,\n",
    "                    name=district,\n",
    "                    style_function=lambda x, students=student_count: {\n",
    "                        'fillColor': color_scale(students),\n",
    "                        'color': 'black',\n",
    "                        'weight': 1,\n",
    "                        'fillOpacity': 0.7,\n",
    "                    },\n",
    "                    tooltip=folium.GeoJsonTooltip(fields=['sggnm'], labels=False, sticky=False)\n",
    "                ).add_to(m)\n",
    "\n",
    "    for feature in dissolved_geojson['features']:\n",
    "        district_name = feature['properties']['sggnm']\n",
    "        geometry = shape(feature['geometry'])\n",
    "        centroid = geometry.centroid\n",
    "        folium.Marker(\n",
    "            location=[centroid.y, centroid.x],\n",
    "            icon=folium.DivIcon(html=f'''\n",
    "                <div style=\"\n",
    "                    display: inline-block;\n",
    "                    max-width: 200px;\n",
    "                    font-size: 10px; \n",
    "                    color: black; \n",
    "                    background-color: #f0f0f0; \n",
    "                    padding: 2px; \n",
    "                    border-radius: 3px; \n",
    "                    text-align: center; \n",
    "                    white-space: nowrap;\">\n",
    "                    {district_name}\n",
    "                </div>\n",
    "            ''')\n",
    "        ).add_to(m)\n",
    "\n",
    "    color_scale.caption = '특수교육 대상자 [단위 : 명]'\n",
    "    m.add_child(color_scale)\n",
    "\n",
    "    output_file = f'vis_{output_name}.html'\n",
    "    m.save(output_file)\n",
    "\n",
    "    return output_file"
   ]
  },
  {
   "cell_type": "code",
   "execution_count": 7,
   "id": "23072ec8-9d72-4600-9abb-5ce993f4a7de",
   "metadata": {},
   "outputs": [],
   "source": [
    "def visualize_student_population_2(dataframe, output_name):\n",
    "    dissolved_geojson, sp_agg = prepare_data_2(dataframe)\n",
    "\n",
    "    center_lat, center_lon = 37.5665, 126.9780\n",
    "    m = folium.Map(location=[center_lat, center_lon], zoom_start=11, tiles='cartodbpositron')\n",
    "\n",
    "    for feature in dissolved_geojson['features']:\n",
    "        folium.GeoJson(\n",
    "            feature,\n",
    "            name=feature['properties']['sggnm'],\n",
    "            style_function=lambda x: {\n",
    "                'fillColor': 'none',\n",
    "                'color': 'black',\n",
    "                'weight': 1,\n",
    "                'fillOpacity': 0,\n",
    "            },\n",
    "            tooltip=folium.GeoJsonTooltip(fields=['sggnm'], labels=False, sticky=False)\n",
    "        ).add_to(m)\n",
    "\n",
    "    min_students = sp_agg['총특수학생수'].min()\n",
    "    max_students = sp_agg['총특수학생수'].max()\n",
    "    color_scale = cm.LinearColormap(['floralwhite', 'wheat', 'orange', 'darkgoldenrod'], vmin=min_students, vmax=max_students)\n",
    "\n",
    "    for _, row in sp_agg.iterrows():\n",
    "        district = row['구']\n",
    "        student_count = row['총특수학생수']\n",
    "        \n",
    "        for feature in dissolved_geojson['features']:\n",
    "            if feature['properties']['sggnm'] == district:\n",
    "                folium.GeoJson(\n",
    "                    feature,\n",
    "                    name=district,\n",
    "                    style_function=lambda x, students=student_count: {\n",
    "                        'fillColor': color_scale(students),\n",
    "                        'color': 'black',\n",
    "                        'weight': 1,\n",
    "                        'fillOpacity': 0.7,\n",
    "                    },\n",
    "                    tooltip=folium.GeoJsonTooltip(fields=['sggnm'], labels=False, sticky=False)\n",
    "                ).add_to(m)\n",
    "\n",
    "    for feature in dissolved_geojson['features']:\n",
    "        district_name = feature['properties']['sggnm']\n",
    "        geometry = shape(feature['geometry'])\n",
    "        centroid = geometry.centroid\n",
    "        folium.Marker(\n",
    "            location=[centroid.y, centroid.x],\n",
    "            icon=folium.DivIcon(html=f'''\n",
    "                <div style=\"\n",
    "                    display: inline-block;\n",
    "                    max-width: 200px;\n",
    "                    font-size: 10px; \n",
    "                    color: black; \n",
    "                    background-color: #f0f0f0; \n",
    "                    padding: 2px; \n",
    "                    border-radius: 3px; \n",
    "                    text-align: center; \n",
    "                    white-space: nowrap;\">\n",
    "                    {district_name}\n",
    "                </div>\n",
    "            ''')\n",
    "        ).add_to(m)\n",
    "\n",
    "    color_scale.caption = '특수 학생 비율'\n",
    "    m.add_child(color_scale)\n",
    "\n",
    "    output_file = f'vis_{output_name}.html'\n",
    "    m.save(output_file)\n",
    "\n",
    "    return output_file"
   ]
  },
  {
   "cell_type": "code",
   "execution_count": 8,
   "id": "2837e52c-8f01-4be3-aae6-ffb51b0082b5",
   "metadata": {},
   "outputs": [],
   "source": [
    "def visualize_student_population_3(dataframe, output_name):\n",
    "    dissolved_geojson, sp_agg = prepare_data_3(dataframe)\n",
    "\n",
    "    center_lat, center_lon = 37.5665, 126.9780\n",
    "    m = folium.Map(location=[center_lat, center_lon], zoom_start=11, tiles='cartodbpositron')\n",
    "\n",
    "    for feature in dissolved_geojson['features']:\n",
    "        folium.GeoJson(\n",
    "            feature,\n",
    "            name=feature['properties']['sggnm'],\n",
    "            style_function=lambda x: {\n",
    "                'fillColor': 'none',\n",
    "                'color': 'black',\n",
    "                'weight': 1,\n",
    "                'fillOpacity': 0,\n",
    "            },\n",
    "            tooltip=folium.GeoJsonTooltip(fields=['sggnm'], labels=False, sticky=False)\n",
    "        ).add_to(m)\n",
    "\n",
    "    min_students = sp_agg['특수학생수차'].min()\n",
    "    max_students = sp_agg['특수학생수차'].max()\n",
    "    color_scale = cm.LinearColormap(['floralwhite', 'wheat', 'orange', 'darkgoldenrod'], vmin=min_students, vmax=max_students)\n",
    "\n",
    "    for _, row in sp_agg.iterrows():\n",
    "        district = row['구']\n",
    "        student_count = row['특수학생수차']\n",
    "        \n",
    "        for feature in dissolved_geojson['features']:\n",
    "            if feature['properties']['sggnm'] == district:\n",
    "                folium.GeoJson(\n",
    "                    feature,\n",
    "                    name=district,\n",
    "                    style_function=lambda x, students=student_count: {\n",
    "                        'fillColor': color_scale(students),\n",
    "                        'color': 'black',\n",
    "                        'weight': 1,\n",
    "                        'fillOpacity': 0.7,\n",
    "                    },\n",
    "                    tooltip=folium.GeoJsonTooltip(fields=['sggnm'], labels=False, sticky=False)\n",
    "                ).add_to(m)\n",
    "\n",
    "    for feature in dissolved_geojson['features']:\n",
    "        district_name = feature['properties']['sggnm']\n",
    "        geometry = shape(feature['geometry'])\n",
    "        centroid = geometry.centroid\n",
    "        folium.Marker(\n",
    "            location=[centroid.y, centroid.x],\n",
    "            icon=folium.DivIcon(html=f'''\n",
    "                <div style=\"\n",
    "                    display: inline-block;\n",
    "                    max-width: 200px;\n",
    "                    font-size: 10px; \n",
    "                    color: black; \n",
    "                    background-color: #f0f0f0; \n",
    "                    padding: 2px; \n",
    "                    border-radius: 3px; \n",
    "                    text-align: center; \n",
    "                    white-space: nowrap;\">\n",
    "                    {district_name}\n",
    "                </div>\n",
    "            ''')\n",
    "        ).add_to(m)\n",
    "\n",
    "    color_scale.caption = '특수 학생 비율'\n",
    "    m.add_child(color_scale)\n",
    "\n",
    "    output_file = f'vis_{output_name}.html'\n",
    "    m.save(output_file)\n",
    "\n",
    "    return output_file"
   ]
  },
  {
   "cell_type": "code",
   "execution_count": 9,
   "id": "e2185b4a-fcd8-43b5-97a4-83ade42d952f",
   "metadata": {},
   "outputs": [
    {
     "data": {
      "text/plain": [
       "'vis_Special.html'"
      ]
     },
     "execution_count": 9,
     "metadata": {},
     "output_type": "execute_result"
    }
   ],
   "source": [
    "visualize_student_population(sp, 'Special')"
   ]
  },
  {
   "cell_type": "code",
   "execution_count": 10,
   "id": "72775f95-7e37-4016-b36a-32aed7ca0faa",
   "metadata": {},
   "outputs": [
    {
     "data": {
      "text/plain": [
       "'vis_Elementary.html'"
      ]
     },
     "execution_count": 10,
     "metadata": {},
     "output_type": "execute_result"
    }
   ],
   "source": [
    "visualize_student_population_2(ele, 'Elementary')"
   ]
  },
  {
   "cell_type": "code",
   "execution_count": 11,
   "id": "f4177bcc-f5d0-40a0-982d-f8d183040c9b",
   "metadata": {},
   "outputs": [
    {
     "data": {
      "text/plain": [
       "'vis_Middle.html'"
      ]
     },
     "execution_count": 11,
     "metadata": {},
     "output_type": "execute_result"
    }
   ],
   "source": [
    "visualize_student_population_2(mid, 'Middle')"
   ]
  },
  {
   "cell_type": "code",
   "execution_count": 12,
   "id": "fef9f8b9-d270-4d3f-8587-917aa48ba8d3",
   "metadata": {},
   "outputs": [
    {
     "data": {
      "text/plain": [
       "'vis_High.html'"
      ]
     },
     "execution_count": 12,
     "metadata": {},
     "output_type": "execute_result"
    }
   ],
   "source": [
    "visualize_student_population_2(high, 'High')"
   ]
  },
  {
   "cell_type": "code",
   "execution_count": 13,
   "id": "d79b45a8-7a14-4321-a674-afdff4cb6302",
   "metadata": {},
   "outputs": [
    {
     "data": {
      "text/plain": [
       "'vis_NotSpecial.html'"
      ]
     },
     "execution_count": 13,
     "metadata": {},
     "output_type": "execute_result"
    }
   ],
   "source": [
    "visualize_student_population_2(n_all, 'NotSpecial')"
   ]
  },
  {
   "cell_type": "code",
   "execution_count": 14,
   "id": "d186d5c2-54d7-44e8-bfe4-49818c2b9c61",
   "metadata": {},
   "outputs": [
    {
     "data": {
      "text/plain": [
       "'vis_mi.html'"
      ]
     },
     "execution_count": 14,
     "metadata": {},
     "output_type": "execute_result"
    }
   ],
   "source": [
    "visualize_student_population_3(mi, 'mi')"
   ]
  }
 ],
 "metadata": {
  "kernelspec": {
   "display_name": "Python 3 (ipykernel)",
   "language": "python",
   "name": "python3"
  },
  "language_info": {
   "codemirror_mode": {
    "name": "ipython",
    "version": 3
   },
   "file_extension": ".py",
   "mimetype": "text/x-python",
   "name": "python",
   "nbconvert_exporter": "python",
   "pygments_lexer": "ipython3",
   "version": "3.9.0"
  }
 },
 "nbformat": 4,
 "nbformat_minor": 5
}
