{
 "cells": [
  {
   "cell_type": "code",
   "execution_count": 1,
   "id": "50b95b00-14fb-47a2-bace-e6665f97bb5d",
   "metadata": {},
   "outputs": [],
   "source": [
    "import requests\n",
    "import math\n",
    "import pandas as pd\n",
    "import numpy as np"
   ]
  },
  {
   "cell_type": "code",
   "execution_count": 2,
   "id": "a8582cf3-f2d5-4388-94a5-1dfa7d110280",
   "metadata": {},
   "outputs": [],
   "source": [
    "kakao_key = open(\"kakaoRestKey.txt\", \"r\").read()"
   ]
  },
  {
   "cell_type": "code",
   "execution_count": 3,
   "id": "82c1bb71-3406-46d3-8bf8-4ab993adc713",
   "metadata": {},
   "outputs": [],
   "source": [
    "sp = pd.read_csv('위치정보.csv')"
   ]
  },
  {
   "cell_type": "code",
   "execution_count": 4,
   "id": "ece0536d-9a17-43e6-9bb2-dba81f5bcfd9",
   "metadata": {},
   "outputs": [],
   "source": [
    "def __get_distance_result__(x1, y1, x2, y2):\n",
    "    return math.sqrt((x1 - x2) ** 2 + (y1 - y2) ** 2)"
   ]
  },
  {
   "cell_type": "code",
   "execution_count": 5,
   "id": "801f4f59-e8f3-4ab9-b56a-d2b2e8fe37cb",
   "metadata": {},
   "outputs": [],
   "source": [
    "def get_distance_between_to_address(addr1, addr2):\n",
    "    response = requests.get(\n",
    "        \"https://dapi.kakao.com/v2/local/search/address.json\",\n",
    "        params={\"query\": addr1},\n",
    "        headers={\"Authorization\": \"KakaoAK \" + kakao_key},\n",
    "    ).json()\n",
    "    x, y = response[\"documents\"][0][\"x\"], response[\"documents\"][0][\"y\"]\n",
    "\n",
    "    response = requests.get(\n",
    "        \"https://dapi.kakao.com/v2/local/geo/transcoord.json\",\n",
    "        params={\"x\": x, \"y\": y, \"output_coord\": \"WTM\"},\n",
    "        headers={\"Authorization\": \"KakaoAK \" + kakao_key},\n",
    "    ).json()\n",
    "    x1, y1 = response[\"documents\"][0][\"x\"], response[\"documents\"][0][\"y\"]\n",
    "\n",
    "    response = requests.get(\n",
    "        \"https://dapi.kakao.com/v2/local/search/address.json\",\n",
    "        params={\"query\": addr2},\n",
    "        headers={\"Authorization\": \"KakaoAK \" + kakao_key},\n",
    "    ).json()\n",
    "    x, y = response[\"documents\"][0][\"x\"], response[\"documents\"][0][\"y\"]\n",
    "\n",
    "    response = requests.get(\n",
    "        \"https://dapi.kakao.com/v2/local/geo/transcoord.json\",\n",
    "        params={\"x\": x, \"y\": y, \"output_coord\": \"WTM\"},\n",
    "        headers={\"Authorization\": \"KakaoAK \" + kakao_key},\n",
    "    ).json()\n",
    "    x2, y2 = response[\"documents\"][0][\"x\"], response[\"documents\"][0][\"y\"]\n",
    "\n",
    "    return __get_distance_result__(x1, y1, x2, y2)"
   ]
  },
  {
   "cell_type": "code",
   "execution_count": 6,
   "id": "9233ac21-45da-4476-93c7-fedc570e46cf",
   "metadata": {},
   "outputs": [],
   "source": [
    "district_dfs = {district: df for district, df in sp.groupby('지역')}"
   ]
  },
  {
   "cell_type": "code",
   "execution_count": 7,
   "id": "2a21c6cf-0431-4703-9315-7d9e069af082",
   "metadata": {},
   "outputs": [],
   "source": [
    "def calculate_school_distances(district_name, df_dict, df_name=None):\n",
    "    if district_name not in df_dict:\n",
    "        print(f\"{district_name}에 대한 데이터가 없습니다.\")\n",
    "        return None\n",
    "    \n",
    "    df = df_dict[district_name]\n",
    "\n",
    "    if len(df) <= 1:\n",
    "        print(\"학교가 하나입니다.\")\n",
    "        return None\n",
    "\n",
    "    schools = df['학교명'].tolist()\n",
    "    addresses = df['도로명주소'].tolist()\n",
    "\n",
    "    distances_df = pd.DataFrame(index=schools, columns=schools)\n",
    "\n",
    "    for i, (school1, addr1) in enumerate(zip(schools, addresses)):\n",
    "        for j, (school2, addr2) in enumerate(zip(schools, addresses)):\n",
    "            if i <= j: \n",
    "                dist = get_distance_between_to_address(addr1, addr2)\n",
    "                distances_df.loc[school1, school2] = dist\n",
    "                distances_df.loc[school2, school1] = dist \n",
    "    \n",
    "    np.fill_diagonal(distances_df.values, 0)\n",
    "\n",
    "    if df_name is not None:\n",
    "        df_name[district_name] = distances_df\n",
    "    \n",
    "    return distances_df"
   ]
  },
  {
   "cell_type": "code",
   "execution_count": 8,
   "id": "20292626-a218-42ce-b5e7-8327b398b495",
   "metadata": {},
   "outputs": [],
   "source": [
    "def compute_inter_district_school_distances(district1, district2, df_dict, df_name=None):\n",
    "    # 두 지역의 데이터프레임 가져오기\n",
    "    if district1 not in df_dict or district2 not in df_dict:\n",
    "        if district1 not in df_dict:\n",
    "            print(f\"{district1}에 대한 데이터가 없습니다.\")\n",
    "        if district2 not in df_dict:\n",
    "            print(f\"{district2}에 대한 데이터가 없습니다.\")\n",
    "        return None\n",
    "    \n",
    "    df1 = df_dict[district1]\n",
    "    df2 = df_dict[district2]\n",
    "  \n",
    "    if len(df1) == 0 or len(df2) == 0:\n",
    "        if len(df1) == 0:\n",
    "            print(f\"{district1}에 학교가 없습니다.\")\n",
    "        if len(df2) == 0:\n",
    "            print(f\"{district2}에 학교가 없습니다.\")\n",
    "        return None\n",
    "        \n",
    "    schools1 = df1['학교명'].tolist()\n",
    "    addresses1 = df1['도로명주소'].tolist()\n",
    "    schools2 = df2['학교명'].tolist()\n",
    "    addresses2 = df2['도로명주소'].tolist()\n",
    "\n",
    "    distances_df = pd.DataFrame(index=schools1, columns=schools2)\n",
    "\n",
    "    for school1, addr1 in zip(schools1, addresses1):\n",
    "        for school2, addr2 in zip(schools2, addresses2):\n",
    "            dist = get_distance_between_to_address(addr1, addr2)\n",
    "            distances_df.loc[school1, school2] = dist\n",
    "\n",
    "    if df_name is not None:\n",
    "        key = f\"{district1}_to_{district2}\"\n",
    "        df_name[key] = distances_df\n",
    "    \n",
    "    return distances_df"
   ]
  },
  {
   "cell_type": "code",
   "execution_count": 9,
   "id": "1741b17c-96d7-4a5f-841f-7e33fdfba106",
   "metadata": {},
   "outputs": [],
   "source": [
    "def calculate_all_school_distances(sp, save_to_csv=False, csv_path=None):\n",
    "    schools = sp['학교명'].tolist()\n",
    "    addresses = sp['도로명주소'].tolist()\n",
    "    \n",
    "    if len(schools) < 2:\n",
    "        print(\"학교가 두 개 미만입니다. 거리 계산이 불가능합니다.\")\n",
    "        return None\n",
    "    \n",
    "    distances_df = pd.DataFrame(index=schools, columns=schools, dtype=float)\n",
    "    \n",
    "    for i, (school1, addr1) in enumerate(zip(schools, addresses)):\n",
    "        for j, (school2, addr2) in enumerate(zip(schools, addresses)):\n",
    "            if i <= j:\n",
    "                try:\n",
    "                    dist = float(get_distance_between_to_address(addr1, addr2))\n",
    "                except (ValueError, TypeError):\n",
    "                    print(f\"Warning: {school1}와 {school2} 사이의 거리를 숫자로 변환할 수 없습니다.\")\n",
    "                    dist = np.nan\n",
    "                distances_df.loc[school1, school2] = dist\n",
    "                distances_df.loc[school2, school1] = dist\n",
    "\n",
    "    np.fill_diagonal(distances_df.values, 0)\n",
    "    \n",
    "    max_distance = distances_df.max().max()\n",
    "    distances_df.fillna(max_distance + 1, inplace=True)\n",
    "    \n",
    "    total_schools = len(schools)\n",
    "    total_pairs = (total_schools * (total_schools - 1)) // 2\n",
    "\n",
    "    upper_tri = np.triu(distances_df.values, k=1)\n",
    "    min_dist_idx = divmod(upper_tri.argmin(), upper_tri.shape[1])\n",
    "    max_dist_idx = divmod(upper_tri.argmax(), upper_tri.shape[1])\n",
    "    \n",
    "    closest_pair = (schools[min_dist_idx[0]], schools[min_dist_idx[1]])\n",
    "    farthest_pair = (schools[max_dist_idx[0]], schools[max_dist_idx[1]])\n",
    "\n",
    "    valid_distances = distances_df.values[np.triu_indices_from(distances_df.values, k=1)]\n",
    "    valid_distances = valid_distances[~np.isnan(valid_distances)]\n",
    "    average_distance = np.mean(valid_distances) if len(valid_distances) > 0 else np.nan\n",
    "\n",
    "    print(f\"총 학교 수: {total_schools}\")\n",
    "    print(f\"총 학교 쌍 수: {total_pairs}\")\n",
    "    print(f\"평균 거리: {average_distance:.2f}m\" if not np.isnan(average_distance) else \"평균 거리: 계산 불가\")\n",
    "\n",
    "    distances_df.replace(max_distance + 1, np.nan, inplace=True)\n",
    "    \n",
    "    return distances_df"
   ]
  },
  {
   "cell_type": "code",
   "execution_count": 12,
   "id": "d67ee769-e021-44a1-b390-8a01403c0b00",
   "metadata": {},
   "outputs": [
    {
     "name": "stdout",
     "output_type": "stream",
     "text": [
      "총 학교 수: 40\n",
      "총 학교 쌍 수: 780\n",
      "평균 거리: 13201.64m\n"
     ]
    }
   ],
   "source": [
    "#all_distances = calculate_all_school_distances(sp)"
   ]
  },
  {
   "cell_type": "code",
   "execution_count": 14,
   "id": "3f98e067-6c3c-4a33-9f91-afe4fe0297fe",
   "metadata": {},
   "outputs": [],
   "source": [
    "#all_distances.to_csv('학교간거리.csv', index=False)"
   ]
  },
  {
   "cell_type": "code",
   "execution_count": null,
   "id": "d1d950c7-ae1c-4145-952d-a0c80732e0d3",
   "metadata": {},
   "outputs": [],
   "source": []
  }
 ],
 "metadata": {
  "kernelspec": {
   "display_name": "Python 3 (ipykernel)",
   "language": "python",
   "name": "python3"
  },
  "language_info": {
   "codemirror_mode": {
    "name": "ipython",
    "version": 3
   },
   "file_extension": ".py",
   "mimetype": "text/x-python",
   "name": "python",
   "nbconvert_exporter": "python",
   "pygments_lexer": "ipython3",
   "version": "3.9.0"
  }
 },
 "nbformat": 4,
 "nbformat_minor": 5
}
